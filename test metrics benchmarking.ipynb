{
 "cells": [
  {
   "cell_type": "code",
   "execution_count": 1,
   "id": "022c20d5",
   "metadata": {},
   "outputs": [],
   "source": [
    "import pandas as pd\n",
    "import numpy as np\n",
    "import sklearn.metrics as m"
   ]
  },
  {
   "cell_type": "code",
   "execution_count": 2,
   "id": "8878086d",
   "metadata": {},
   "outputs": [],
   "source": [
    "df1 = pd.read_excel(r'C:\\jintu\\TAR LSTM Work\\ID1\\ID1 all.xlsx')\n",
    "df2 = pd.read_excel(r'C:\\jintu\\TAR LSTM Work\\ID2\\ID2 all.xlsx')\n",
    "df3 = pd.read_excel(r'C:\\jintu\\TAR LSTM Work\\MY1\\MY1 all.xlsx')\n",
    "df4 = pd.read_excel(r'C:\\jintu\\TAR LSTM Work\\MY3\\MY3 all.xlsx')\n",
    "df5 = pd.read_excel(r'C:\\jintu\\TAR LSTM Work\\PH2\\PH2 all.xlsx')\n",
    "df6 = pd.read_excel(r'C:\\jintu\\TAR LSTM Work\\PH3\\PH3 all.xlsx')"
   ]
  },
  {
   "cell_type": "code",
   "execution_count": 3,
   "id": "202f1b96",
   "metadata": {},
   "outputs": [
    {
     "data": {
      "text/html": [
       "<div>\n",
       "<style scoped>\n",
       "    .dataframe tbody tr th:only-of-type {\n",
       "        vertical-align: middle;\n",
       "    }\n",
       "\n",
       "    .dataframe tbody tr th {\n",
       "        vertical-align: top;\n",
       "    }\n",
       "\n",
       "    .dataframe thead th {\n",
       "        text-align: right;\n",
       "    }\n",
       "</style>\n",
       "<table border=\"1\" class=\"dataframe\">\n",
       "  <thead>\n",
       "    <tr style=\"text-align: right;\">\n",
       "      <th></th>\n",
       "      <th>Datetime</th>\n",
       "      <th>Actual NO2</th>\n",
       "      <th>Actual O3</th>\n",
       "      <th>Actual CO</th>\n",
       "      <th>Actual SO2</th>\n",
       "      <th>Actual PM2.5</th>\n",
       "      <th>Actual PM10</th>\n",
       "      <th>NO2 RNN</th>\n",
       "      <th>O3 RNN</th>\n",
       "      <th>CO RNN</th>\n",
       "      <th>...</th>\n",
       "      <th>CO XGB</th>\n",
       "      <th>SO2 XGB</th>\n",
       "      <th>PM2.5 XGB</th>\n",
       "      <th>PM10 XGB</th>\n",
       "      <th>NO2 LGB</th>\n",
       "      <th>O3 LGB</th>\n",
       "      <th>CO LGB</th>\n",
       "      <th>SO2 LGB</th>\n",
       "      <th>PM2.5 LGB</th>\n",
       "      <th>PM10 LGB</th>\n",
       "    </tr>\n",
       "  </thead>\n",
       "  <tbody>\n",
       "    <tr>\n",
       "      <th>0</th>\n",
       "      <td>2023-01-01 00:00:00</td>\n",
       "      <td>31.203008</td>\n",
       "      <td>24.979219</td>\n",
       "      <td>512.116136</td>\n",
       "      <td>0.669100</td>\n",
       "      <td>99.766667</td>\n",
       "      <td>108.177778</td>\n",
       "      <td>31.042910</td>\n",
       "      <td>27.449826</td>\n",
       "      <td>789.482333</td>\n",
       "      <td>...</td>\n",
       "      <td>777.337097</td>\n",
       "      <td>2.226492</td>\n",
       "      <td>102.901703</td>\n",
       "      <td>111.541817</td>\n",
       "      <td>31.891676</td>\n",
       "      <td>22.827949</td>\n",
       "      <td>763.700564</td>\n",
       "      <td>2.108244</td>\n",
       "      <td>132.952506</td>\n",
       "      <td>138.072219</td>\n",
       "    </tr>\n",
       "    <tr>\n",
       "      <th>1</th>\n",
       "      <td>2023-01-01 01:00:00</td>\n",
       "      <td>26.629073</td>\n",
       "      <td>27.223608</td>\n",
       "      <td>435.566723</td>\n",
       "      <td>0.405515</td>\n",
       "      <td>70.533333</td>\n",
       "      <td>80.738889</td>\n",
       "      <td>26.029393</td>\n",
       "      <td>26.624170</td>\n",
       "      <td>502.271365</td>\n",
       "      <td>...</td>\n",
       "      <td>455.356934</td>\n",
       "      <td>2.548525</td>\n",
       "      <td>178.609695</td>\n",
       "      <td>203.497284</td>\n",
       "      <td>29.087343</td>\n",
       "      <td>23.206310</td>\n",
       "      <td>568.306647</td>\n",
       "      <td>1.711173</td>\n",
       "      <td>110.486615</td>\n",
       "      <td>120.482593</td>\n",
       "    </tr>\n",
       "    <tr>\n",
       "      <th>2</th>\n",
       "      <td>2023-01-01 02:00:00</td>\n",
       "      <td>25.250627</td>\n",
       "      <td>23.372125</td>\n",
       "      <td>501.842546</td>\n",
       "      <td>0.263585</td>\n",
       "      <td>69.038889</td>\n",
       "      <td>79.950000</td>\n",
       "      <td>21.652967</td>\n",
       "      <td>25.206751</td>\n",
       "      <td>349.029200</td>\n",
       "      <td>...</td>\n",
       "      <td>454.557343</td>\n",
       "      <td>2.644326</td>\n",
       "      <td>128.483032</td>\n",
       "      <td>174.345657</td>\n",
       "      <td>25.262087</td>\n",
       "      <td>25.025255</td>\n",
       "      <td>371.577980</td>\n",
       "      <td>1.435328</td>\n",
       "      <td>102.289757</td>\n",
       "      <td>126.764480</td>\n",
       "    </tr>\n",
       "    <tr>\n",
       "      <th>3</th>\n",
       "      <td>2023-01-01 03:00:00</td>\n",
       "      <td>23.370927</td>\n",
       "      <td>26.932668</td>\n",
       "      <td>180.541597</td>\n",
       "      <td>0.081103</td>\n",
       "      <td>48.212291</td>\n",
       "      <td>59.750000</td>\n",
       "      <td>19.882120</td>\n",
       "      <td>26.641165</td>\n",
       "      <td>268.205902</td>\n",
       "      <td>...</td>\n",
       "      <td>246.370453</td>\n",
       "      <td>1.175183</td>\n",
       "      <td>134.611969</td>\n",
       "      <td>103.696442</td>\n",
       "      <td>25.564851</td>\n",
       "      <td>25.176816</td>\n",
       "      <td>385.584005</td>\n",
       "      <td>0.872622</td>\n",
       "      <td>120.363773</td>\n",
       "      <td>141.962892</td>\n",
       "    </tr>\n",
       "    <tr>\n",
       "      <th>4</th>\n",
       "      <td>2023-01-01 04:00:00</td>\n",
       "      <td>21.553885</td>\n",
       "      <td>28.650596</td>\n",
       "      <td>127.275265</td>\n",
       "      <td>0.000000</td>\n",
       "      <td>50.638889</td>\n",
       "      <td>63.400000</td>\n",
       "      <td>20.977893</td>\n",
       "      <td>29.715383</td>\n",
       "      <td>288.852328</td>\n",
       "      <td>...</td>\n",
       "      <td>188.416962</td>\n",
       "      <td>0.730079</td>\n",
       "      <td>131.569336</td>\n",
       "      <td>182.816406</td>\n",
       "      <td>22.222895</td>\n",
       "      <td>26.957341</td>\n",
       "      <td>421.727131</td>\n",
       "      <td>0.624374</td>\n",
       "      <td>119.271271</td>\n",
       "      <td>148.247243</td>\n",
       "    </tr>\n",
       "  </tbody>\n",
       "</table>\n",
       "<p>5 rows × 43 columns</p>\n",
       "</div>"
      ],
      "text/plain": [
       "             Datetime  Actual NO2  Actual O3   Actual CO  Actual SO2  \\\n",
       "0 2023-01-01 00:00:00   31.203008  24.979219  512.116136    0.669100   \n",
       "1 2023-01-01 01:00:00   26.629073  27.223608  435.566723    0.405515   \n",
       "2 2023-01-01 02:00:00   25.250627  23.372125  501.842546    0.263585   \n",
       "3 2023-01-01 03:00:00   23.370927  26.932668  180.541597    0.081103   \n",
       "4 2023-01-01 04:00:00   21.553885  28.650596  127.275265    0.000000   \n",
       "\n",
       "   Actual PM2.5  Actual PM10    NO2 RNN     O3 RNN      CO RNN  ...  \\\n",
       "0     99.766667   108.177778  31.042910  27.449826  789.482333  ...   \n",
       "1     70.533333    80.738889  26.029393  26.624170  502.271365  ...   \n",
       "2     69.038889    79.950000  21.652967  25.206751  349.029200  ...   \n",
       "3     48.212291    59.750000  19.882120  26.641165  268.205902  ...   \n",
       "4     50.638889    63.400000  20.977893  29.715383  288.852328  ...   \n",
       "\n",
       "       CO XGB   SO2 XGB   PM2.5 XGB    PM10 XGB    NO2 LGB     O3 LGB  \\\n",
       "0  777.337097  2.226492  102.901703  111.541817  31.891676  22.827949   \n",
       "1  455.356934  2.548525  178.609695  203.497284  29.087343  23.206310   \n",
       "2  454.557343  2.644326  128.483032  174.345657  25.262087  25.025255   \n",
       "3  246.370453  1.175183  134.611969  103.696442  25.564851  25.176816   \n",
       "4  188.416962  0.730079  131.569336  182.816406  22.222895  26.957341   \n",
       "\n",
       "       CO LGB   SO2 LGB   PM2.5 LGB    PM10 LGB  \n",
       "0  763.700564  2.108244  132.952506  138.072219  \n",
       "1  568.306647  1.711173  110.486615  120.482593  \n",
       "2  371.577980  1.435328  102.289757  126.764480  \n",
       "3  385.584005  0.872622  120.363773  141.962892  \n",
       "4  421.727131  0.624374  119.271271  148.247243  \n",
       "\n",
       "[5 rows x 43 columns]"
      ]
     },
     "execution_count": 3,
     "metadata": {},
     "output_type": "execute_result"
    }
   ],
   "source": [
    "df1.head()"
   ]
  },
  {
   "cell_type": "code",
   "execution_count": 4,
   "id": "88c45be1",
   "metadata": {},
   "outputs": [
    {
     "data": {
      "text/plain": [
       "Index(['Datetime', 'Actual NO2', 'Actual O3', 'Actual CO', 'Actual SO2',\n",
       "       'Actual PM2.5', 'Actual PM10', 'NO2 RNN', 'O3 RNN', 'CO RNN', 'SO2 RNN',\n",
       "       'PM2.5 RNN', 'PM10 RNN', 'NO2 LSTM', 'O3 LSTM', 'CO LSTM', 'SO2 LSTM',\n",
       "       'PM2.5 LSTM', 'PM10 LSTM', 'NO2 GRU', 'O3 GRU', 'CO GRU', 'SO2 GRU',\n",
       "       'PM2.5 GRU', 'PM10 GRU', 'NO2 RF', 'O3 RF', 'CO RF', 'SO2 RF',\n",
       "       'PM2.5 RF', 'PM10 RF', 'NO2 XGB', 'O3 XGB', 'CO XGB', 'SO2 XGB',\n",
       "       'PM2.5 XGB', 'PM10 XGB', 'NO2 LGB', 'O3 LGB', 'CO LGB', 'SO2 LGB',\n",
       "       'PM2.5 LGB', 'PM10 LGB'],\n",
       "      dtype='object')"
      ]
     },
     "execution_count": 4,
     "metadata": {},
     "output_type": "execute_result"
    }
   ],
   "source": [
    "df1.columns"
   ]
  },
  {
   "cell_type": "code",
   "execution_count": 14,
   "id": "6c4b2936",
   "metadata": {},
   "outputs": [
    {
     "name": "stdout",
     "output_type": "stream",
     "text": [
      "0.4755630592099811\n",
      "0.5181326057571911\n",
      "0.46109563681469057\n",
      "0.6140343563173307\n",
      "-0.0830448221173663\n",
      "0.09961047112290844\n"
     ]
    }
   ],
   "source": [
    "print(m.r2_score(df1['Actual NO2'], df1['NO2 RF']))\n",
    "print(m.r2_score(df1['Actual NO2'], df1['NO2 XGB']))\n",
    "print(m.r2_score(df1['Actual NO2'], df1['NO2 LGB']))\n",
    "print(m.r2_score(df1['Actual NO2'], df1['NO2 RNN']))\n",
    "print(m.r2_score(df1['Actual NO2'], df1['NO2 GRU']))\n",
    "print(m.r2_score(df1['Actual NO2'], df1['NO2 LSTM']))"
   ]
  },
  {
   "cell_type": "code",
   "execution_count": 15,
   "id": "e2661d59",
   "metadata": {},
   "outputs": [
    {
     "name": "stdout",
     "output_type": "stream",
     "text": [
      "0.021159847327069214\n",
      "-0.012704487745301973\n",
      "0.14810567033934274\n",
      "-0.3192101579962927\n",
      "0.11187996710634684\n",
      "-0.42155991516992253\n"
     ]
    }
   ],
   "source": [
    "print(m.r2_score(df1['Actual O3'], df1['O3 RF']))\n",
    "print(m.r2_score(df1['Actual O3'], df1['O3 XGB']))\n",
    "print(m.r2_score(df1['Actual O3'], df1['O3 LGB']))\n",
    "print(m.r2_score(df1['Actual O3'], df1['O3 RNN']))\n",
    "print(m.r2_score(df1['Actual O3'], df1['O3 GRU']))\n",
    "print(m.r2_score(df1['Actual O3'], df1['O3 LSTM']))"
   ]
  },
  {
   "cell_type": "code",
   "execution_count": 16,
   "id": "c783b734",
   "metadata": {},
   "outputs": [
    {
     "name": "stdout",
     "output_type": "stream",
     "text": [
      "0.28753032081334673\n",
      "0.27784887854861284\n",
      "0.2662206733299529\n",
      "0.41817349744935917\n",
      "-0.21725757808538848\n",
      "0.12295169161882502\n"
     ]
    }
   ],
   "source": [
    "print(m.r2_score(df1['Actual CO'], df1['CO RF']))\n",
    "print(m.r2_score(df1['Actual CO'], df1['CO XGB']))\n",
    "print(m.r2_score(df1['Actual CO'], df1['CO LGB']))\n",
    "print(m.r2_score(df1['Actual CO'], df1['CO RNN']))\n",
    "print(m.r2_score(df1['Actual CO'], df1['CO GRU']))\n",
    "print(m.r2_score(df1['Actual CO'], df1['CO LSTM']))"
   ]
  },
  {
   "cell_type": "code",
   "execution_count": 17,
   "id": "c8402239",
   "metadata": {},
   "outputs": [
    {
     "name": "stdout",
     "output_type": "stream",
     "text": [
      "-0.10023565832487202\n",
      "-1.4617196846543283\n",
      "-0.8968236038126884\n",
      "-3.1395102294235757\n",
      "-2.6242655415684077\n",
      "-2.0742266406054095\n"
     ]
    }
   ],
   "source": [
    "print(m.r2_score(df1['Actual SO2'], df1['SO2 RF']))\n",
    "print(m.r2_score(df1['Actual SO2'], df1['SO2 XGB']))\n",
    "print(m.r2_score(df1['Actual SO2'], df1['SO2 LGB']))\n",
    "print(m.r2_score(df1['Actual SO2'], df1['SO2 RNN']))\n",
    "print(m.r2_score(df1['Actual SO2'], df1['SO2 GRU']))\n",
    "print(m.r2_score(df1['Actual SO2'], df1['SO2 LSTM']))"
   ]
  },
  {
   "cell_type": "code",
   "execution_count": 18,
   "id": "159d9fcd",
   "metadata": {},
   "outputs": [
    {
     "name": "stdout",
     "output_type": "stream",
     "text": [
      "-0.14952830885759338\n",
      "-0.709700349867209\n",
      "-1.828989075139626\n",
      "-0.26080726039548896\n",
      "-0.17180777759401966\n",
      "-1.0695884344003455\n"
     ]
    }
   ],
   "source": [
    "print(m.r2_score(df1['Actual PM2.5'], df1['PM2.5 RF']))\n",
    "print(m.r2_score(df1['Actual PM2.5'], df1['PM2.5 XGB']))\n",
    "print(m.r2_score(df1['Actual PM2.5'], df1['PM2.5 LGB']))\n",
    "print(m.r2_score(df1['Actual PM2.5'], df1['PM2.5 RNN']))\n",
    "print(m.r2_score(df1['Actual PM2.5'], df1['PM2.5 GRU']))\n",
    "print(m.r2_score(df1['Actual PM2.5'], df1['PM2.5 LSTM']))"
   ]
  },
  {
   "cell_type": "code",
   "execution_count": 19,
   "id": "3fe7a6e8",
   "metadata": {},
   "outputs": [
    {
     "name": "stdout",
     "output_type": "stream",
     "text": [
      "-0.17415026570530778\n",
      "-0.6837835090924644\n",
      "-2.3093470432451535\n",
      "-0.31711534033684474\n",
      "-0.17118085758654122\n",
      "-1.0732259496261989\n"
     ]
    }
   ],
   "source": [
    "print(m.r2_score(df1['Actual PM10'], df1['PM10 RF']))\n",
    "print(m.r2_score(df1['Actual PM10'], df1['PM10 XGB']))\n",
    "print(m.r2_score(df1['Actual PM10'], df1['PM10 LGB']))\n",
    "print(m.r2_score(df1['Actual PM10'], df1['PM10 RNN']))\n",
    "print(m.r2_score(df1['Actual PM10'], df1['PM10 GRU']))\n",
    "print(m.r2_score(df1['Actual PM10'], df1['PM10 LSTM']))"
   ]
  }
 ],
 "metadata": {
  "kernelspec": {
   "display_name": "Python [conda env:tf-gpu] *",
   "language": "python",
   "name": "conda-env-tf-gpu-py"
  },
  "language_info": {
   "codemirror_mode": {
    "name": "ipython",
    "version": 3
   },
   "file_extension": ".py",
   "mimetype": "text/x-python",
   "name": "python",
   "nbconvert_exporter": "python",
   "pygments_lexer": "ipython3",
   "version": "3.9.12"
  }
 },
 "nbformat": 4,
 "nbformat_minor": 5
}
